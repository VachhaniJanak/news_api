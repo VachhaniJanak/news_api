{
 "cells": [
  {
   "cell_type": "code",
   "execution_count": 1,
   "metadata": {},
   "outputs": [],
   "source": [
    "from bs4 import BeautifulSoup\n",
    "from requests import get\n",
    "from datetime import datetime"
   ]
  },
  {
   "cell_type": "code",
   "execution_count": 2,
   "metadata": {},
   "outputs": [],
   "source": [
    "# url = 'https://indianexpress.com/article/entertainment/bollywood/vidya-balan-priyamani-are-second-cousins-but-they-have-only-met-twice-first-was-at-an-award-function-9604874/'\n",
    "\n",
    "# respone = get(url)\n",
    "# soup = BeautifulSoup(respone.content, 'html.parser')"
   ]
  },
  {
   "cell_type": "code",
   "execution_count": 1,
   "metadata": {},
   "outputs": [
    {
     "name": "stderr",
     "output_type": "stream",
     "text": [
      "/home/admins/miniconda3/lib/python3.12/site-packages/sentence_transformers/cross_encoder/CrossEncoder.py:11: TqdmExperimentalWarning: Using `tqdm.autonotebook.tqdm` in notebook mode. Use `tqdm.tqdm` instead to force console mode (e.g. in jupyter console)\n",
      "  from tqdm.autonotebook import tqdm, trange\n"
     ]
    }
   ],
   "source": [
    "from newscraper.indianexpress import IndianExpress\n",
    "import database"
   ]
  },
  {
   "cell_type": "code",
   "execution_count": 4,
   "metadata": {},
   "outputs": [
    {
     "name": "stdout",
     "output_type": "stream",
     "text": [
      "'NoneType' object has no attribute 'text'\n",
      "'NoneType' object has no attribute 'text'\n",
      "'NoneType' object has no attribute 'text'\n",
      "'NoneType' object has no attribute 'find'\n"
     ]
    }
   ],
   "source": [
    "# obj = IndianExpress()"
   ]
  },
  {
   "cell_type": "code",
   "execution_count": 10,
   "metadata": {},
   "outputs": [
    {
     "name": "stdout",
     "output_type": "stream",
     "text": [
      "24\n"
     ]
    }
   ],
   "source": [
    "# print(len(obj.politics))"
   ]
  },
  {
   "cell_type": "code",
   "execution_count": 3,
   "metadata": {},
   "outputs": [],
   "source": [
    "crud_obj = database.crudArticle()"
   ]
  },
  {
   "cell_type": "code",
   "execution_count": 7,
   "metadata": {},
   "outputs": [],
   "source": [
    "temp = obj.__dict__"
   ]
  },
  {
   "cell_type": "code",
   "execution_count": 8,
   "metadata": {},
   "outputs": [
    {
     "data": {
      "text/plain": [
       "dict_keys(['top_news', 'entertainment', 'sport', 'politics', 'business', 'tech', 'education', 'research'])"
      ]
     },
     "execution_count": 8,
     "metadata": {},
     "output_type": "execute_result"
    }
   ],
   "source": [
    "temp.keys()"
   ]
  },
  {
   "cell_type": "code",
   "execution_count": 14,
   "metadata": {},
   "outputs": [
    {
     "data": {
      "text/plain": [
       "'C Raja Mohan writes: Arab states – and peace – are more important than Iran or Israel'"
      ]
     },
     "execution_count": 14,
     "metadata": {},
     "output_type": "execute_result"
    }
   ],
   "source": [
    "obj.top_news[0].headline"
   ]
  },
  {
   "cell_type": "code",
   "execution_count": null,
   "metadata": {},
   "outputs": [],
   "source": [
    "for key in list(temp.keys()):\n",
    "    for i in temp[key]: \n",
    "        crud_obj.add_article(\n",
    "            headline=i.headline,\n",
    "            description=i.description,\n",
    "            datetime=datetime.fromisoformat(i.datetime),\n",
    "            img_url=i.img_url,\n",
    "            context=i.context,\n",
    "            url=i.url,\n",
    "            site_name=i.site_name,\n",
    "            writer=i.writer,\n",
    "            news_type=key\n",
    "        )"
   ]
  },
  {
   "cell_type": "code",
   "execution_count": 19,
   "metadata": {},
   "outputs": [],
   "source": [
    "import chromadb\n",
    "from sentence_transformers import SentenceTransformer\n",
    "\n",
    "model = SentenceTransformer('all-MiniLM-L6-v2')\n",
    "client = chromadb.PersistentClient(path=str('/home/admins/Working-Directory/Web-Programming/Fastapi/projects/news_artical_summary_api/NAS_api/database'))\n",
    "articles_collection = client.get_or_create_collection(name=\"articles\")"
   ]
  },
  {
   "cell_type": "code",
   "execution_count": 25,
   "metadata": {},
   "outputs": [
    {
     "data": {
      "text/plain": [
       "{'ids': ['2'],\n",
       " 'embeddings': None,\n",
       " 'metadatas': [None],\n",
       " 'documents': ['Sonam Wangchuk said Ladakh got a colony-type rule by the Lieutenant Governor after the abrogation of Article 370.\\r\\n\\r\\n'],\n",
       " 'uris': None,\n",
       " 'data': None,\n",
       " 'included': ['metadatas', 'documents']}"
      ]
     },
     "execution_count": 25,
     "metadata": {},
     "output_type": "execute_result"
    }
   ],
   "source": [
    "articles_collection.get(ids=['2'])"
   ]
  },
  {
   "cell_type": "code",
   "execution_count": 34,
   "metadata": {},
   "outputs": [],
   "source": [
    "# model.encode(obj.top_news[0].context).tolist()"
   ]
  },
  {
   "cell_type": "code",
   "execution_count": 66,
   "metadata": {},
   "outputs": [
    {
     "name": "stdout",
     "output_type": "stream",
     "text": [
      "Success of moderate Arab states is critical for India’s interests in the region. Delhi must join hands with them in preventing the disastrous alternative of total war between Iran and Israel\n",
      "\n",
      "In “The Discovery of India”, Nehru praised Shivaji’s courage and “high qualities of leadership” and criticised  Aurangzeb for “undoing his predecessors’ legacy.\"\n",
      "\n",
      "Industry watchers attribute the divergence in trend between foreign tourist arrivals into India and Indians travelling overseas to a combination of reasons, which include subdued tourist footfalls from Bangladesh and China.\n"
     ]
    }
   ],
   "source": [
    "# Function to find similar movies based on title\n",
    "def find_similar_movies(query, top_n=3):\n",
    "    query_embedding = model.encode(query).tolist()\n",
    "    \n",
    "    # Search for top_n most similar movies\n",
    "    results = articles_collection.query(\n",
    "        query_embeddings=query_embedding,\n",
    "        n_results=top_n\n",
    "    )\n",
    "    \n",
    "    return results  # List of most similar movies\n",
    "\n",
    "# Example query\n",
    "similar_movies = find_similar_movies([\"india china war\"], top_n=3)\n",
    "print('\\n\\n'.join(similar_movies['documents'][0]))"
   ]
  },
  {
   "cell_type": "code",
   "execution_count": 29,
   "metadata": {},
   "outputs": [],
   "source": [
    "crud_obj = database.engine.vectordb_engine"
   ]
  },
  {
   "cell_type": "code",
   "execution_count": 24,
   "metadata": {},
   "outputs": [
    {
     "data": {
      "text/plain": [
       "(1, 8, 96)"
      ]
     },
     "execution_count": 24,
     "metadata": {},
     "output_type": "execute_result"
    }
   ],
   "source": [
    "crud_obj.get_by_query(query='iran vs israel war', top_n=3)"
   ]
  },
  {
   "cell_type": "code",
   "execution_count": 25,
   "metadata": {},
   "outputs": [
    {
     "name": "stdout",
     "output_type": "stream",
     "text": [
      "C Raja Mohan writes: Arab states – and peace – are more important than Iran or Israel\n",
      "\n",
      "Alireza Firouzja, the giant-killer who has scalped Carlsen, Nakamura and Anand in the last week\n",
      "\n",
      "Trade not just globalised but now weaponised; wars diverting focus from IMEC, multilateral banks’ reforms, climate change: Jaishankar\n",
      "\n"
     ]
    }
   ],
   "source": [
    "for i in database.crudArticle().get_by_ids(article_ids=(1, 8, 96)):\n",
    "    print(i.headline)\n",
    "    print()"
   ]
  },
  {
   "cell_type": "code",
   "execution_count": 2,
   "metadata": {},
   "outputs": [],
   "source": [
    "temp = database.crudArticle()"
   ]
  },
  {
   "cell_type": "code",
   "execution_count": 3,
   "metadata": {},
   "outputs": [],
   "source": [
    "temp.delete_old(days=0)"
   ]
  }
 ],
 "metadata": {
  "kernelspec": {
   "display_name": "base",
   "language": "python",
   "name": "python3"
  },
  "language_info": {
   "codemirror_mode": {
    "name": "ipython",
    "version": 3
   },
   "file_extension": ".py",
   "mimetype": "text/x-python",
   "name": "python",
   "nbconvert_exporter": "python",
   "pygments_lexer": "ipython3",
   "version": "3.12.2"
  }
 },
 "nbformat": 4,
 "nbformat_minor": 2
}
