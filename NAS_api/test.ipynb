{
 "cells": [
  {
   "cell_type": "code",
   "execution_count": 1,
   "metadata": {},
   "outputs": [],
   "source": [
    "from bs4 import BeautifulSoup\n",
    "from requests import get\n",
    "from datetime import datetime"
   ]
  },
  {
   "cell_type": "code",
   "execution_count": 2,
   "metadata": {},
   "outputs": [],
   "source": [
    "# url = 'https://indianexpress.com/article/entertainment/bollywood/vidya-balan-priyamani-are-second-cousins-but-they-have-only-met-twice-first-was-at-an-award-function-9604874/'\n",
    "\n",
    "# respone = get(url)\n",
    "# soup = BeautifulSoup(respone.content, 'html.parser')"
   ]
  },
  {
   "cell_type": "code",
   "execution_count": 3,
   "metadata": {},
   "outputs": [
    {
     "name": "stderr",
     "output_type": "stream",
     "text": [
      "/home/admins/miniconda3/lib/python3.12/site-packages/sentence_transformers/cross_encoder/CrossEncoder.py:11: TqdmExperimentalWarning: Using `tqdm.autonotebook.tqdm` in notebook mode. Use `tqdm.tqdm` instead to force console mode (e.g. in jupyter console)\n",
      "  from tqdm.autonotebook import tqdm, trange\n"
     ]
    }
   ],
   "source": [
    "from newscraper.indianexpress import IndianExpress\n",
    "import database"
   ]
  },
  {
   "cell_type": "code",
   "execution_count": 4,
   "metadata": {},
   "outputs": [
    {
     "name": "stdout",
     "output_type": "stream",
     "text": [
      "'NoneType' object has no attribute 'text'\n",
      "'NoneType' object has no attribute 'text'\n",
      "'NoneType' object has no attribute 'text'\n",
      "'NoneType' object has no attribute 'text'\n",
      "'NoneType' object has no attribute 'text'\n",
      "'NoneType' object has no attribute 'find_all'\n",
      "'content'\n",
      "'NoneType' object has no attribute 'text'\n",
      "'NoneType' object has no attribute 'text'\n",
      "'NoneType' object has no attribute 'text'\n"
     ]
    }
   ],
   "source": [
    "obj = IndianExpress()"
   ]
  },
  {
   "cell_type": "code",
   "execution_count": 23,
   "metadata": {},
   "outputs": [
    {
     "name": "stdout",
     "output_type": "stream",
     "text": [
      "24\n"
     ]
    }
   ],
   "source": [
    "print(len(obj.politics))"
   ]
  },
  {
   "cell_type": "code",
   "execution_count": 24,
   "metadata": {},
   "outputs": [],
   "source": [
    "crud_obj = database.crudArticle()"
   ]
  },
  {
   "cell_type": "code",
   "execution_count": 25,
   "metadata": {},
   "outputs": [],
   "source": [
    "temp = obj.__dict__"
   ]
  },
  {
   "cell_type": "code",
   "execution_count": 26,
   "metadata": {},
   "outputs": [
    {
     "data": {
      "text/plain": [
       "dict_keys(['top_news', 'entertainment', 'sport', 'politics', 'business', 'technology', 'education', 'research'])"
      ]
     },
     "execution_count": 26,
     "metadata": {},
     "output_type": "execute_result"
    }
   ],
   "source": [
    "temp.keys()"
   ]
  },
  {
   "cell_type": "code",
   "execution_count": 27,
   "metadata": {},
   "outputs": [
    {
     "data": {
      "text/plain": [
       "'Ratan Tata’s Indica: How he shaped India’s first indigenous car'"
      ]
     },
     "execution_count": 27,
     "metadata": {},
     "output_type": "execute_result"
    }
   ],
   "source": [
    "obj.top_news[0].headline"
   ]
  },
  {
   "cell_type": "code",
   "execution_count": 28,
   "metadata": {},
   "outputs": [
    {
     "name": "stderr",
     "output_type": "stream",
     "text": [
      "/home/admins/Working-Directory/Web-Programming/Fastapi/projects/news_artical_summary_api/NAS_api/database/curd.py:144: SAWarning: Object of type <Article> not in session, add operation along 'SiteName.article' will not proceed (This warning originated from the Session 'autoflush' process, which was invoked automatically in response to a user-initiated operation.)\n",
      "  obj = self.session.query(Writer).filter_by(name=name.lower()).one_or_none()\n",
      "/home/admins/Working-Directory/Web-Programming/Fastapi/projects/news_artical_summary_api/NAS_api/database/curd.py:151: SAWarning: Object of type <Article> not in session, add operation along 'Writer.article' will not proceed (This warning originated from the Session 'autoflush' process, which was invoked automatically in response to a user-initiated operation.)\n",
      "  obj = self.session.query(NewsType).filter_by(type=news_type.lower()).one_or_none()\n"
     ]
    },
    {
     "name": "stdout",
     "output_type": "stream",
     "text": [
      "\u001b[93m[@@@@@@@@@@ (sqlite3.IntegrityError) UNIQUE constraint failed: articles.headline\n",
      "[SQL: INSERT INTO articles (headline, description, datetime, img_url, context, url, site_id, writer_id, newstype_id) VALUES (?, ?, ?, ?, ?, ?, ?, ?, ?)]\n",
      "[parameters: ('Vettaiyan movie review: TJ Gnanavel’s take on encounter killings is burdened by predictability and the weight of Rajinikanth’s superstardom', \"Vettaiyan movie review: What really works for Rajinikanth and Amitabh Bachchan-starrer Vettaiyan is the central conceit of the film, and the commentary on India's education system. Vettaiyan goes into some interesting places, and ruffles a few feathers.\", '2024-10-10 22:58:09.000000', 'https://images.indianexpress.com/2024/10/vettaiyan-review-1-1600.jpg?w=640', '\\nVettaiyan movie review: Tamil cinema cops are trigger-happy. They have always been so, and in all probability, they will continue to be. That’s why ... (5366 characters truncated) ... Fahadh Faasil, Rana Daggubati, Manju Warrier, Ritika Singh, Dushara Vijayan\\nVettaiyan Movie Director: Tj Gnanavel\\nVettaiyan Movie Rating: 2.5 Stars', 'https://indianexpress.com/article/entertainment/movie-review/vettaiyan-movie-review-rajinikanth-film-on-encounter-killings-is-burdened-by-predictability-9612846/', 1, 57, 2)]\n",
      "(Background on this error at: https://sqlalche.me/e/20/gkpj) class: crudArticle -> function: add_article @@@@@@@@@@]\u001b[0m\n",
      "\u001b[93m[@@@@@@@@@@ (sqlite3.IntegrityError) UNIQUE constraint failed: articles.headline\n",
      "[SQL: INSERT INTO articles (headline, description, datetime, img_url, context, url, site_id, writer_id, newstype_id) VALUES (?, ?, ?, ?, ?, ?, ?, ?, ?)]\n",
      "[parameters: ('How prisoners in India’s jails began to play chess, win medals in FIDE tournament, and changed their lives', 'Grandmaster Abhijit Kunte details how jailed inmates want to leave their past behind and seek recognition from outside world.', '2024-10-10 22:58:55.000000', 'https://images.indianexpress.com/2024/10/team-india-prison.jpg?w=640', '\\nAfter India’s recent success at the Chess Olympiad in Budapest, there were more medals for India at the international level: a gold and a bronze. T ... (3776 characters truncated) ... e Past Is Gone. Now You Have A New Life, You Can Do Something Better, Which Can Be Recognized By Society. For Them That Recognition Is Very Crucial.”', 'https://indianexpress.com/article/sports/chess/india-prisoners-jail-fide-tournament-gcl-9614292/', 1, 8, 3)]\n",
      "(Background on this error at: https://sqlalche.me/e/20/gkpj) class: crudArticle -> function: add_article @@@@@@@@@@]\u001b[0m\n",
      "\u001b[93m[@@@@@@@@@@ (sqlite3.IntegrityError) UNIQUE constraint failed: articles.headline\n",
      "[SQL: INSERT INTO articles (headline, description, datetime, img_url, context, url, site_id, writer_id, newstype_id) VALUES (?, ?, ?, ?, ?, ?, ?, ?, ?)]\n",
      "[parameters: ('A Karnal sweep: Why BJP Haryana win is doubly sweet for Manohar Lal Khattar', 'Khattar’s Karnal LS seat was the only one where BJP won all the Assembly segments. Party’s worst performance was in LS seats held by Kumari Selja and Deepender Hooda', '2024-10-10 22:57:59.000000', 'https://images.indianexpress.com/2024/10/khattar_55e423.jpg?w=640', '\\nIn a ringing endorsement of former BJP Haryana chief minister Manohar Lal Khattar, who was replaced by the party ahead of the Lok Sabha polls as it ... (3928 characters truncated) ... nal Lok Sabha seat, the BJP last won Samalkha in 1967. As for the other eight, it either won them for the first time, or after a long gap, in 2014.\\n', 'https://indianexpress.com/article/political-pulse/karnal-bjp-haryana-win-manohar-lal-khattar-9614085/', 1, 28, 4)]\n",
      "(Background on this error at: https://sqlalche.me/e/20/gkpj) class: crudArticle -> function: add_article @@@@@@@@@@]\u001b[0m\n"
     ]
    }
   ],
   "source": [
    "for key in list(temp.keys()):\n",
    "    for i in temp[key]: \n",
    "        crud_obj.add_article(\n",
    "            headline=i.headline,\n",
    "            description=i.description,\n",
    "            datetime=datetime.fromisoformat(i.datetime),\n",
    "            img_url=i.img_url,\n",
    "            context=i.context,\n",
    "            url=i.url,\n",
    "            site_name=i.site_name,\n",
    "            writer=i.writer,\n",
    "            news_type=key\n",
    "        )"
   ]
  },
  {
   "cell_type": "code",
   "execution_count": 13,
   "metadata": {},
   "outputs": [],
   "source": [
    "import chromadb\n",
    "from sentence_transformers import SentenceTransformer\n",
    "\n",
    "model = SentenceTransformer('all-MiniLM-L6-v2')\n",
    "client = chromadb.PersistentClient(path=str('/home/admins/Working-Directory/Web-Programming/Fastapi/projects/news_artical_summary_api/NAS_api/database'))\n",
    "articles_collection = client.get_or_create_collection(name=\"articles\")"
   ]
  },
  {
   "cell_type": "code",
   "execution_count": 14,
   "metadata": {},
   "outputs": [
    {
     "data": {
      "text/plain": [
       "{'ids': ['1'],\n",
       " 'embeddings': None,\n",
       " 'metadatas': [None],\n",
       " 'documents': ['As one of India’s greatest industrialists passes away, a look at what might be one of his greatest achievements — creating the first truly indigenous Indian family car.'],\n",
       " 'uris': None,\n",
       " 'data': None,\n",
       " 'included': ['metadatas', 'documents']}"
      ]
     },
     "execution_count": 14,
     "metadata": {},
     "output_type": "execute_result"
    }
   ],
   "source": [
    "articles_collection.get(ids=['1'])"
   ]
  },
  {
   "cell_type": "code",
   "execution_count": 34,
   "metadata": {},
   "outputs": [],
   "source": [
    "# model.encode(obj.top_news[0].context).tolist()"
   ]
  },
  {
   "cell_type": "code",
   "execution_count": 66,
   "metadata": {},
   "outputs": [
    {
     "name": "stdout",
     "output_type": "stream",
     "text": [
      "Success of moderate Arab states is critical for India’s interests in the region. Delhi must join hands with them in preventing the disastrous alternative of total war between Iran and Israel\n",
      "\n",
      "In “The Discovery of India”, Nehru praised Shivaji’s courage and “high qualities of leadership” and criticised  Aurangzeb for “undoing his predecessors’ legacy.\"\n",
      "\n",
      "Industry watchers attribute the divergence in trend between foreign tourist arrivals into India and Indians travelling overseas to a combination of reasons, which include subdued tourist footfalls from Bangladesh and China.\n"
     ]
    }
   ],
   "source": [
    "# Function to find similar movies based on title\n",
    "def find_similar_movies(query, top_n=3):\n",
    "    query_embedding = model.encode(query).tolist()\n",
    "    \n",
    "    # Search for top_n most similar movies\n",
    "    results = articles_collection.query(\n",
    "        query_embeddings=query_embedding,\n",
    "        n_results=top_n\n",
    "    )\n",
    "    \n",
    "    return results  # List of most similar movies\n",
    "\n",
    "# Example query\n",
    "similar_movies = find_similar_movies([\"india china war\"], top_n=3)\n",
    "print('\\n\\n'.join(similar_movies['documents'][0]))"
   ]
  },
  {
   "cell_type": "code",
   "execution_count": 29,
   "metadata": {},
   "outputs": [],
   "source": [
    "crud_obj = database.engine.vectordb_engine"
   ]
  },
  {
   "cell_type": "code",
   "execution_count": 32,
   "metadata": {},
   "outputs": [
    {
     "data": {
      "text/plain": [
       "(81, 89, 7)"
      ]
     },
     "execution_count": 32,
     "metadata": {},
     "output_type": "execute_result"
    }
   ],
   "source": []
  },
  {
   "cell_type": "code",
   "execution_count": 34,
   "metadata": {},
   "outputs": [
    {
     "name": "stdout",
     "output_type": "stream",
     "text": [
      "UPSC Key: ASEAN-India, Living Planet Report, Ratan Tata and his Patriotic entrepreneurship\n",
      "\n",
      "When Ratan Tata inspired Shah Rukh Khan: ‘My father and mother were losing at their businesses…’\n",
      "\n",
      "From Singur, Mistry, Tata Tapes to Wadia: 5 controversies during Ratan Tata’s tenure\n",
      "\n"
     ]
    }
   ],
   "source": [
    "for i in database.crudArticle().get_by_ids(article_ids=crud_obj.get_by_query(query='TAta news', top_n=3)):\n",
    "    print(i.headline)\n",
    "    print()"
   ]
  },
  {
   "cell_type": "code",
   "execution_count": 15,
   "metadata": {},
   "outputs": [],
   "source": [
    "temp = database.crudArticle()"
   ]
  },
  {
   "cell_type": "code",
   "execution_count": 16,
   "metadata": {},
   "outputs": [
    {
     "data": {
      "text/plain": [
       "True"
      ]
     },
     "execution_count": 16,
     "metadata": {},
     "output_type": "execute_result"
    }
   ],
   "source": [
    "temp.delete_old(days=0)"
   ]
  },
  {
   "cell_type": "code",
   "execution_count": 35,
   "metadata": {},
   "outputs": [],
   "source": [
    "def x(a, b, c):\n",
    "    print(a, b, c)"
   ]
  },
  {
   "cell_type": "code",
   "execution_count": 42,
   "metadata": {},
   "outputs": [],
   "source": [
    "class f:\n",
    "    def __init__(self) -> None:\n",
    "        self.a = 1\n",
    "        self.b = 2\n",
    "        self.c = 3\n",
    "\n",
    "    def y(self):\n",
    "        print(\"Hello, World\")"
   ]
  },
  {
   "cell_type": "code",
   "execution_count": 44,
   "metadata": {},
   "outputs": [
    {
     "data": {
      "text/plain": [
       "{'a': 1, 'b': 2, 'c': 3}"
      ]
     },
     "execution_count": 44,
     "metadata": {},
     "output_type": "execute_result"
    }
   ],
   "source": [
    "f().__dict__"
   ]
  },
  {
   "cell_type": "code",
   "execution_count": 43,
   "metadata": {},
   "outputs": [
    {
     "name": "stdout",
     "output_type": "stream",
     "text": [
      "1 2 3\n"
     ]
    }
   ],
   "source": [
    "x(**f().__dict__)"
   ]
  }
 ],
 "metadata": {
  "kernelspec": {
   "display_name": "base",
   "language": "python",
   "name": "python3"
  },
  "language_info": {
   "codemirror_mode": {
    "name": "ipython",
    "version": 3
   },
   "file_extension": ".py",
   "mimetype": "text/x-python",
   "name": "python",
   "nbconvert_exporter": "python",
   "pygments_lexer": "ipython3",
   "version": "3.12.2"
  }
 },
 "nbformat": 4,
 "nbformat_minor": 2
}
